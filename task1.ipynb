{
 "cells": [
  {
   "cell_type": "code",
   "execution_count": 9,
   "id": "f8ad8420-437d-417e-b5b8-0c114841c318",
   "metadata": {},
   "outputs": [
    {
     "name": "stdout",
     "output_type": "stream",
     "text": [
      "[1, 2, 3, 8]\n"
     ]
    }
   ],
   "source": [
    "#Creation of list\n",
    "list = [1,2,3]\n",
    "#adding element to current list\n",
    "list.append(8)\n",
    "#Finding the index position\n",
    "list.index(2)\n",
    "#printing list\n",
    "print(list)\n"
   ]
  },
  {
   "cell_type": "code",
   "execution_count": 14,
   "id": "8749bb48-a1aa-44cf-aad4-573d9df946da",
   "metadata": {},
   "outputs": [
    {
     "name": "stdout",
     "output_type": "stream",
     "text": [
      "8\n",
      "3\n",
      "[2, 3]\n",
      "<class 'list'>\n"
     ]
    }
   ],
   "source": [
    "#built-in functions of list\n",
    "print(max(list))\n",
    "print(len(list))\n",
    "list.remove(8)\n",
    "print(list)\n",
    "print(type(list))\n"
   ]
  },
  {
   "cell_type": "code",
   "execution_count": 31,
   "id": "84354d50-dc56-43ce-b146-98ed15df5ab1",
   "metadata": {},
   "outputs": [
    {
     "name": "stdout",
     "output_type": "stream",
     "text": [
      "<class 'set'>\n",
      "{'sandy', 'sindhu', 'chinnu'}\n"
     ]
    }
   ],
   "source": [
    "\n",
    "#creation of set\n",
    "set1={\"sindhu\",\"sandy\",\"chinnu\"}\n",
    "print(type(set))\n",
    "print(set1)"
   ]
  },
  {
   "cell_type": "code",
   "execution_count": 19,
   "id": "655ed242-bb88-49cc-8eaa-1a83c3dc03c1",
   "metadata": {},
   "outputs": [
    {
     "name": "stdout",
     "output_type": "stream",
     "text": [
      "{'Rollno': 1, 'Name': 'Sindhu', 'Grade': 'A'}\n"
     ]
    }
   ],
   "source": [
    "#creation of dictionary\n",
    "my_dict = {'Rollno':1,'Name':\"Sindhu\",'Grade':\"A\"}\n",
    "print(dict)"
   ]
  },
  {
   "cell_type": "code",
   "execution_count": 23,
   "id": "72ab1012-657a-4f43-a4e2-7f975937b7da",
   "metadata": {},
   "outputs": [
    {
     "name": "stdout",
     "output_type": "stream",
     "text": [
      "{'gender': 'female'}\n"
     ]
    }
   ],
   "source": [
    "my_dict = {'gender':'female'}\n",
    "print(my_dict)"
   ]
  },
  {
   "cell_type": "code",
   "execution_count": 28,
   "id": "4ef64c17-50a6-416b-b91f-10efb2d2d670",
   "metadata": {},
   "outputs": [
    {
     "ename": "SyntaxError",
     "evalue": "cannot delete function call (2502365303.py, line 1)",
     "output_type": "error",
     "traceback": [
      "\u001b[0;36m  Cell \u001b[0;32mIn[28], line 1\u001b[0;36m\u001b[0m\n\u001b[0;31m    del my_dict('Rollno')\u001b[0m\n\u001b[0m        ^\u001b[0m\n\u001b[0;31mSyntaxError\u001b[0m\u001b[0;31m:\u001b[0m cannot delete function call\n"
     ]
    }
   ],
   "source": [
    "del my_dict('Rollno')\n",
    "print(my_dict)"
   ]
  },
  {
   "cell_type": "code",
   "execution_count": null,
   "id": "de514467-d5d4-41b5-8d1c-77186dc2aca4",
   "metadata": {},
   "outputs": [],
   "source": []
  },
  {
   "cell_type": "code",
   "execution_count": null,
   "id": "dbf5bff3-d130-46c1-ac49-49c9f145e40a",
   "metadata": {},
   "outputs": [],
   "source": []
  }
 ],
 "metadata": {
  "kernelspec": {
   "display_name": "Python 3 (ipykernel)",
   "language": "python",
   "name": "python3"
  },
  "language_info": {
   "codemirror_mode": {
    "name": "ipython",
    "version": 3
   },
   "file_extension": ".py",
   "mimetype": "text/x-python",
   "name": "python",
   "nbconvert_exporter": "python",
   "pygments_lexer": "ipython3",
   "version": "3.8.10"
  }
 },
 "nbformat": 4,
 "nbformat_minor": 5
}
